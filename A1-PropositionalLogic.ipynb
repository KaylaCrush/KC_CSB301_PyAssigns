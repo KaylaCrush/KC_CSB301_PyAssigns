{
 "cells": [
  {
   "cell_type": "markdown",
   "metadata": {},
   "source": [
    "## Assignment 2 - Propositional Logic"
   ]
  },
  {
   "cell_type": "markdown",
   "metadata": {},
   "source": [
    "### 1: Convert the following into logic notation using Python with SymPy. Use both standard notation and using function calls such as Or, And, Implies format as well.\n",
    "1. y or (x and y)\n",
    "2. a implies b\n",
    "3. (m or n) and (r or s)"
   ]
  },
  {
   "cell_type": "code",
   "execution_count": 1,
   "metadata": {},
   "outputs": [],
   "source": [
    "from sympy import *"
   ]
  },
  {
   "cell_type": "code",
   "execution_count": 2,
   "metadata": {},
   "outputs": [
    {
     "data": {
      "text/latex": [
       "$\\displaystyle y \\vee \\left(y \\wedge \\neg x\\right)$"
      ],
      "text/plain": [
       "y | (y & ~x)"
      ]
     },
     "execution_count": 2,
     "metadata": {},
     "output_type": "execute_result"
    }
   ],
   "source": [
    "# 1a. y or (not x and y) standard\n",
    "x, y = symbols('x, y')\n",
    "y | (~x & y)"
   ]
  },
  {
   "cell_type": "code",
   "execution_count": 5,
   "metadata": {},
   "outputs": [
    {
     "data": {
      "text/latex": [
       "$\\displaystyle y \\vee \\left(y \\wedge \\neg x\\right)$"
      ],
      "text/plain": [
       "y | (y & ~x)"
      ]
     },
     "execution_count": 5,
     "metadata": {},
     "output_type": "execute_result"
    }
   ],
   "source": [
    "# 1b. y or (not x and y) function calls\n",
    "Or(y,(And(Not(x),y)))"
   ]
  },
  {
   "cell_type": "code",
   "execution_count": 4,
   "metadata": {},
   "outputs": [
    {
     "data": {
      "text/latex": [
       "$\\displaystyle a \\Rightarrow b$"
      ],
      "text/plain": [
       "Implies(a, b)"
      ]
     },
     "execution_count": 4,
     "metadata": {},
     "output_type": "execute_result"
    }
   ],
   "source": [
    "# 2b. a implies b function calls\n",
    "a, b = symbols(\"a, b\")\n",
    "Implies(a,b)\n"
   ]
  },
  {
   "cell_type": "code",
   "execution_count": 15,
   "metadata": {},
   "outputs": [
    {
     "data": {
      "text/latex": [
       "$\\displaystyle \\left(m \\vee \\neg n\\right) \\wedge \\left(r \\vee \\neg s\\right)$"
      ],
      "text/plain": [
       "(m | ~n) & (r | ~s)"
      ]
     },
     "execution_count": 15,
     "metadata": {},
     "output_type": "execute_result"
    }
   ],
   "source": [
    "# 3a. (m or not n) and (r or not s) standard\n",
    "m, n, r, s = symbols('m, n, r, s')\n",
    "(m | ~n) & (r | ~s)\n"
   ]
  },
  {
   "cell_type": "code",
   "execution_count": 16,
   "metadata": {},
   "outputs": [
    {
     "data": {
      "text/latex": [
       "$\\displaystyle \\left(m \\vee \\neg n\\right) \\wedge \\left(r \\vee \\neg s\\right)$"
      ],
      "text/plain": [
       "(m | ~n) & (r | ~s)"
      ]
     },
     "execution_count": 16,
     "metadata": {},
     "output_type": "execute_result"
    }
   ],
   "source": [
    "# 3b. (m or not n) and (r or not s) function calls\n",
    "And(Or(m, Not(n)), Or(r, Not(s)))\n"
   ]
  },
  {
   "cell_type": "markdown",
   "metadata": {},
   "source": [
    "### 2: Now create the code for the following and substitute the given true or false values. You can use either format, but keep in mind some of them may require function calls format.\n",
    "1. y or x. y = False, x = True\n",
    "2. (a implies b) or m. a = False, b = True, m = True\n",
    "3. (m or n) and (a or (b and c)). m = True, n = False, a = False, b = True, c = False"
   ]
  },
  {
   "cell_type": "code",
   "execution_count": 18,
   "metadata": {},
   "outputs": [
    {
     "data": {
      "text/latex": [
       "$\\displaystyle \\text{True}$"
      ],
      "text/plain": [
       "True"
      ]
     },
     "execution_count": 18,
     "metadata": {},
     "output_type": "execute_result"
    }
   ],
   "source": [
    "# 1. y | x\n",
    "x, y = symbols('x, y')\n",
    "(x | y).subs({x:True, y:False})"
   ]
  },
  {
   "cell_type": "code",
   "execution_count": 20,
   "metadata": {},
   "outputs": [
    {
     "data": {
      "text/latex": [
       "$\\displaystyle \\text{True}$"
      ],
      "text/plain": [
       "True"
      ]
     },
     "execution_count": 20,
     "metadata": {},
     "output_type": "execute_result"
    }
   ],
   "source": [
    "# 2. (a implies b) or m. a = False, b = True, m = True\n",
    "a, b, m = symbols('a, b, m')\n",
    "(a>>b) | m\n",
    "\n",
    "# Substitute the given values a = False, b = True, and m = True into the expression\n",
    "((a>>b) | m).subs({a:False,b:True,m:True})\n"
   ]
  },
  {
   "cell_type": "code",
   "execution_count": 23,
   "metadata": {},
   "outputs": [
    {
     "data": {
      "text/latex": [
       "$\\displaystyle \\text{False}$"
      ],
      "text/plain": [
       "False"
      ]
     },
     "execution_count": 23,
     "metadata": {},
     "output_type": "execute_result"
    }
   ],
   "source": [
    "# 3. (m or n) and (a or (b and c)). m = True, n = False, a = False, b = True, c = False\n",
    "m, n, a, b, c = symbols('m, n, a, b, c')\n",
    "statement = (m | n) & (a | (b&c))\n",
    "\n",
    "# Substitute the given values m = True, n = False, a = False, b = True, and c = False into the expression\n",
    "statement.subs({m:True, n:False, a:False, b:True, c:False})"
   ]
  },
  {
   "cell_type": "markdown",
   "metadata": {},
   "source": [
    "### 3: Create the truth tables for:\n",
    "1. Conjunction\n",
    "2. Disjunction\n",
    "3. Implication\n",
    "4. Exclusive Disjunction\n",
    "5. Truth Table for (y and z) or (not w and not x)\n",
    "\n",
    "There are many ways to do this. You can do it without SymPy, or use SymPy's truth table import and you are free to get as complex as you want. Use x and y variables.\n"
   ]
  },
  {
   "cell_type": "code",
   "execution_count": 29,
   "metadata": {},
   "outputs": [],
   "source": [
    "from sympy.logic.boolalg import truth_table\n",
    "\n",
    "# helper function for printing a truth table, given a sympy expression and the relevant propositions\n",
    "def print_truth_table(expression, props):\n",
    "    table = truth_table(expression, props)\n",
    "    for prop in props:\n",
    "        print(prop, end='\\t')\n",
    "    print(expression)\n",
    "    for values, result in table:\n",
    "        for value in values:\n",
    "            print(f\"{'F' if value == 0 else 'T'}\", end ='\\t')\n",
    "        print(result)"
   ]
  },
  {
   "cell_type": "code",
   "execution_count": 30,
   "metadata": {},
   "outputs": [
    {
     "name": "stdout",
     "output_type": "stream",
     "text": [
      "x\ty\tx & y\n",
      "F\tF\tFalse\n",
      "F\tT\tFalse\n",
      "T\tF\tFalse\n",
      "T\tT\tTrue\n"
     ]
    }
   ],
   "source": [
    "#  Conjunction Truth Table\n",
    "#  Conjuction is only true when both propositions are true\n",
    "props = x, y = symbols('x, y')\n",
    "expr = x & y\n",
    "print_truth_table(expr,props)\n"
   ]
  },
  {
   "cell_type": "code",
   "execution_count": 67,
   "metadata": {},
   "outputs": [
    {
     "name": "stdout",
     "output_type": "stream",
     "text": [
      "x\ty\tx | y\n",
      "F\tF\tFalse\n",
      "F\tT\tTrue\n",
      "T\tF\tTrue\n",
      "T\tT\tTrue\n"
     ]
    }
   ],
   "source": [
    "# Disjunction Truth Table\n",
    "# A disdjunction is true if either or both propositions are true\n",
    "props = x, y = symbols('x, y')\n",
    "expr = x | y\n",
    "print_truth_table(expr,props)\n"
   ]
  },
  {
   "cell_type": "code",
   "execution_count": 69,
   "metadata": {},
   "outputs": [
    {
     "name": "stdout",
     "output_type": "stream",
     "text": [
      "x\ty\tImplies(x, y)\n",
      "F\tF\tTrue\n",
      "F\tT\tTrue\n",
      "T\tF\tFalse\n",
      "T\tT\tTrue\n"
     ]
    }
   ],
   "source": [
    "# Implication Truth Table\n",
    "# Implication is true in every situation EXCEPT when x is true and y is false\n",
    "props = x, y = symbols('x, y')\n",
    "expr = x >> y\n",
    "print_truth_table(expr,props)\n"
   ]
  },
  {
   "cell_type": "code",
   "execution_count": 70,
   "metadata": {},
   "outputs": [
    {
     "name": "stdout",
     "output_type": "stream",
     "text": [
      "x\ty\tx ^ y\n",
      "F\tF\tFalse\n",
      "F\tT\tTrue\n",
      "T\tF\tTrue\n",
      "T\tT\tFalse\n"
     ]
    }
   ],
   "source": [
    "# Exclusive Disjunction Truth Table\n",
    "# Xor is true when either proposition is true, but NOT when they are both true\n",
    "props = x, y = symbols('x, y')\n",
    "expr = Xor(x, y)\n",
    "print_truth_table(expr,props)\n"
   ]
  },
  {
   "cell_type": "code",
   "execution_count": 72,
   "metadata": {},
   "outputs": [
    {
     "name": "stdout",
     "output_type": "stream",
     "text": [
      "w\tx\ty\tz\t(y & z) | (~w & ~x)\n",
      "F\tF\tF\tF\tTrue\n",
      "F\tF\tF\tT\tTrue\n",
      "F\tF\tT\tF\tTrue\n",
      "F\tF\tT\tT\tTrue\n",
      "F\tT\tF\tF\tFalse\n",
      "F\tT\tF\tT\tFalse\n",
      "F\tT\tT\tF\tFalse\n",
      "F\tT\tT\tT\tTrue\n",
      "T\tF\tF\tF\tFalse\n",
      "T\tF\tF\tT\tFalse\n",
      "T\tF\tT\tF\tFalse\n",
      "T\tF\tT\tT\tTrue\n",
      "T\tT\tF\tF\tFalse\n",
      "T\tT\tF\tT\tFalse\n",
      "T\tT\tT\tF\tFalse\n",
      "T\tT\tT\tT\tTrue\n"
     ]
    }
   ],
   "source": [
    "# Truth Table for (y and z) or (not w and not x)\n",
    "# As you can see, more propositions means more lines in the truth table\n",
    "props = w, x, y, z = symbols('w, x, y, z')\n",
    "expr = (y & z) | (~w & ~x)\n",
    "print_truth_table(expr, props)"
   ]
  },
  {
   "cell_type": "markdown",
   "metadata": {},
   "source": [
    "### 4: Let p and q be the propositions as seen below:    \n",
    "p: You drive over 65 miles per hour.    \n",
    "q: You get a speeding ticket.     \n",
    "Write these propositions using p and q and logical connectives (including negations)\n",
    "1. You do not drive over 65 miles per hour.\n",
    "2. You will get a speeding ticket if you drive over 65 miles per hour.\n",
    "3. If you do not drive over 65 miles per hour, then you will not get a speeding ticket.\n",
    "4. You get a speeding ticket, but you do not drive over 65 miles per hour."
   ]
  },
  {
   "cell_type": "code",
   "execution_count": 79,
   "metadata": {},
   "outputs": [
    {
     "data": {
      "text/latex": [
       "$\\displaystyle \\neg p$"
      ],
      "text/plain": [
       "~p"
      ]
     },
     "execution_count": 79,
     "metadata": {},
     "output_type": "execute_result"
    }
   ],
   "source": [
    "# 1 You do not drive over 65 miles per hour.\n",
    "p, q = symbols('p, q')\n",
    "~p\n"
   ]
  },
  {
   "cell_type": "code",
   "execution_count": 80,
   "metadata": {},
   "outputs": [
    {
     "data": {
      "text/latex": [
       "$\\displaystyle p > q$"
      ],
      "text/plain": [
       "p > q"
      ]
     },
     "execution_count": 80,
     "metadata": {},
     "output_type": "execute_result"
    }
   ],
   "source": [
    "# 2 You will get a speeding ticket if you drive over 65 miles per hour.\n",
    "p > q"
   ]
  },
  {
   "cell_type": "code",
   "execution_count": 84,
   "metadata": {},
   "outputs": [
    {
     "data": {
      "text/latex": [
       "$\\displaystyle \\neg p \\Rightarrow \\neg q$"
      ],
      "text/plain": [
       "Implies(~p, ~q)"
      ]
     },
     "execution_count": 84,
     "metadata": {},
     "output_type": "execute_result"
    }
   ],
   "source": [
    "# 3 If you do not drive over 65 miles per hour, then you will not get a speeding ticket.\n",
    "~p >> ~q"
   ]
  },
  {
   "cell_type": "code",
   "execution_count": 85,
   "metadata": {},
   "outputs": [
    {
     "data": {
      "text/latex": [
       "$\\displaystyle q \\wedge \\neg p$"
      ],
      "text/plain": [
       "q & ~p"
      ]
     },
     "execution_count": 85,
     "metadata": {},
     "output_type": "execute_result"
    }
   ],
   "source": [
    "# 4 You get a speeding ticket, but you do not drive over 65 miles per hour.\n",
    "q & ~p"
   ]
  }
 ],
 "metadata": {
  "kernelspec": {
   "display_name": ".venv",
   "language": "python",
   "name": "python3"
  },
  "language_info": {
   "codemirror_mode": {
    "name": "ipython",
    "version": 3
   },
   "file_extension": ".py",
   "mimetype": "text/x-python",
   "name": "python",
   "nbconvert_exporter": "python",
   "pygments_lexer": "ipython3",
   "version": "3.11.7"
  },
  "orig_nbformat": 4
 },
 "nbformat": 4,
 "nbformat_minor": 2
}
