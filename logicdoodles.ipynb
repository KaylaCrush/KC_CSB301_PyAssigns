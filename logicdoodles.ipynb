{
 "cells": [
  {
   "cell_type": "code",
   "execution_count": 1,
   "metadata": {},
   "outputs": [],
   "source": [
    "from sympy import *\n",
    "from sympy.logic.boolalg import truth_table, simplify_logic\n",
    "\n",
    "# helper function for printing a truth table, given a sympy expression and the relevant propositions\n",
    "def print_truth_table(expression, props):\n",
    "    table = truth_table(expression, props)\n",
    "    for prop in props:\n",
    "        print(prop, end='\\t')\n",
    "    print(expression)\n",
    "    for values, result in list(table)[::-1]:\n",
    "        for value in values:\n",
    "            print(f\"{'F' if value == 0 else 'T'}\", end ='\\t')\n",
    "        print(result)\n",
    "\n",
    "# Function that will test for logical equivalence\n",
    "def test_logical_equivalence(expression1, expression2):\n",
    "    # write code to test for logical equivalence here\n",
    "    return simplify_logic(expression1).equals(simplify_logic(expression2))\n",
    "\n",
    "\n",
    "def terms_to_binary(minterm_line_list, num_variables):\n",
    "    binterms=[]\n",
    "    for line_number in minterm_line_list:\n",
    "        terms = [int(char) for char in bin(int(line_number))[2:]]\n",
    "        while len(terms) < num_variables:\n",
    "            terms.insert(0,0)\n",
    "        binterms.append(terms)\n",
    "    return binterms\n",
    "\n",
    "def print_SOP(minterm_line_list, variables):\n",
    "    binterms = terms_to_binary(minterm_line_list, len(variables))\n",
    "    variables = list(variables)\n",
    "    sop_string = \"\"\n",
    "    for row in binterms:\n",
    "        for i, value in enumerate(row):\n",
    "            sop_string += str(variables[i])\n",
    "            if value == 0:\n",
    "                sop_string += \"\\u0304\"\n",
    "        sop_string += (' + ')\n",
    "    print(sop_string[:-3])\n",
    "\n",
    "print_DNF = print_SOP\n",
    "\n",
    "def print_POS(maxterm_line_list, variables):\n",
    "    binterms = terms_to_binary(maxterm_line_list,len(variables))\n",
    "    variables = list(variables)\n",
    "    pos_string = \"(\"\n",
    "    for row in binterms:\n",
    "        for i, value in enumerate(row):\n",
    "            pos_string += str(variables[i])\n",
    "            if value == 1:\n",
    "                pos_string += \"\\u0304\"\n",
    "            pos_string += \" + \"\n",
    "        pos_string = pos_string[:-3] + \")(\"\n",
    "    print(pos_string[:-1])\n",
    "\n",
    "print_CNF = print_POS"
   ]
  },
  {
   "cell_type": "code",
   "execution_count": 14,
   "metadata": {},
   "outputs": [
    {
     "data": {
      "text/latex": [
       "$\\displaystyle \\left(q \\vee \\neg r\\right) \\wedge \\left(\\neg p \\vee \\neg r\\right)$"
      ],
      "text/plain": [
       "(q | ~r) & (~p | ~r)"
      ]
     },
     "execution_count": 14,
     "metadata": {},
     "output_type": "execute_result"
    }
   ],
   "source": [
    "import sympy\n",
    "p,q,r = symbols('p,q,r')\n",
    "expr = ~(r&Implies(~p,~q))\n",
    "sympy.to_cnf(expr)"
   ]
  },
  {
   "cell_type": "code",
   "execution_count": 12,
   "metadata": {},
   "outputs": [
    {
     "name": "stdout",
     "output_type": "stream",
     "text": [
      "(p + q + r̄)(p + q̄ + r)(p + q̄ + r̄)(p̄ + q + r)(p̄ + q + r̄)(p̄ + q̄ + r)(p̄ + q̄ + r̄)\n",
      "p\tq\tr\t~p | ~q | ~r\n",
      "T\tT\tT\tFalse\n",
      "T\tT\tF\tTrue\n",
      "T\tF\tT\tTrue\n",
      "T\tF\tF\tTrue\n",
      "F\tT\tT\tTrue\n",
      "F\tT\tF\tTrue\n",
      "F\tF\tT\tTrue\n",
      "F\tF\tF\tTrue\n"
     ]
    }
   ],
   "source": [
    "props = p, q, r = symbols('p,q,r')\n",
    "expr = Implies((p&q),~r)\n",
    "print_CNF([1,2,3,4,5,6,7], props)\n",
    "print_truth_table(~p|~q|~r,props)"
   ]
  },
  {
   "cell_type": "code",
   "execution_count": null,
   "metadata": {},
   "outputs": [],
   "source": []
  }
 ],
 "metadata": {
  "kernelspec": {
   "display_name": "Python 3",
   "language": "python",
   "name": "python3"
  },
  "language_info": {
   "codemirror_mode": {
    "name": "ipython",
    "version": 3
   },
   "file_extension": ".py",
   "mimetype": "text/x-python",
   "name": "python",
   "nbconvert_exporter": "python",
   "pygments_lexer": "ipython3",
   "version": "3.11.7"
  }
 },
 "nbformat": 4,
 "nbformat_minor": 2
}
