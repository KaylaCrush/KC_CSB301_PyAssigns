{
 "cells": [
  {
   "cell_type": "markdown",
   "metadata": {},
   "source": [
    "## Assignment 2 - Logical Equivalences & Normal Forms"
   ]
  },
  {
   "cell_type": "markdown",
   "metadata": {},
   "source": [
    "### 1 Tautologies and Contradictions  \n",
    "Create 3 Tautologies and 3 Contradictions of your choice and print the truth tables for them.\n"
   ]
  },
  {
   "cell_type": "code",
   "execution_count": 2,
   "metadata": {},
   "outputs": [],
   "source": [
    "from sympy import *\n",
    "from sympy.logic.boolalg import truth_table\n",
    "\n",
    "# helper function for printing a truth table, given a sympy expression and the relevant propositions\n",
    "def print_truth_table(expression, props):\n",
    "    table = truth_table(expression, props)\n",
    "    for prop in props:\n",
    "        print(prop, end='\\t')\n",
    "    print(expression)\n",
    "    for values, result in table:\n",
    "        for value in values:\n",
    "            print(f\"{'F' if value == 0 else 'T'}\", end ='\\t')\n",
    "        print(result)"
   ]
  },
  {
   "cell_type": "code",
   "execution_count": 5,
   "metadata": {},
   "outputs": [
    {
     "name": "stdout",
     "output_type": "stream",
     "text": [
      "x\ty\tz\t~(z & ~y) & (x | (y & ~x))\n",
      "F\tF\tF\tFalse\n",
      "F\tF\tT\tFalse\n",
      "F\tT\tF\tTrue\n",
      "F\tT\tT\tTrue\n",
      "T\tF\tF\tTrue\n",
      "T\tF\tT\tFalse\n",
      "T\tT\tF\tTrue\n",
      "T\tT\tT\tTrue\n"
     ]
    }
   ],
   "source": [
    "x,y,z = props = symbols('x,y,z')\n",
    "exp = ~(~y&z)&(x|(~x&y))\n",
    "print_truth_table(exp, props)"
   ]
  },
  {
   "cell_type": "code",
   "execution_count": 115,
   "metadata": {},
   "outputs": [
    {
     "name": "stdout",
     "output_type": "stream",
     "text": [
      "p\tp | ~p\n",
      "F\tTrue\n",
      "T\tTrue\n",
      "\n",
      "p\t~(p & ~p)\n",
      "F\tTrue\n",
      "T\tTrue\n",
      "\n",
      "p\tq\tp | (~p & (q | ~q))\n",
      "F\tF\tTrue\n",
      "F\tT\tTrue\n",
      "T\tF\tTrue\n",
      "T\tT\tTrue\n"
     ]
    }
   ],
   "source": [
    "# Tautologies\n",
    "props = p, q = symbols('p, q')\n",
    "taut1 = p | ~p\n",
    "taut2 = ~(p & ~p)\n",
    "taut3 = p | (~p & (q | ~q))\n",
    "print_truth_table(taut1, [p])\n",
    "print()\n",
    "print_truth_table(taut2, [p])\n",
    "print()\n",
    "print_truth_table(taut3, props)"
   ]
  },
  {
   "cell_type": "code",
   "execution_count": 116,
   "metadata": {},
   "outputs": [
    {
     "name": "stdout",
     "output_type": "stream",
     "text": [
      "p\tp & ~p\n",
      "F\tFalse\n",
      "T\tFalse\n",
      "\n",
      "p\t~(p | ~p)\n",
      "F\tFalse\n",
      "T\tFalse\n",
      "\n",
      "p\tq\tp & (~p | (q & ~q))\n",
      "F\tF\tFalse\n",
      "F\tT\tFalse\n",
      "T\tF\tFalse\n",
      "T\tT\tFalse\n"
     ]
    }
   ],
   "source": [
    "# Contradictions\n",
    "props = p, q = symbols('p, q')\n",
    "cont1 = p & ~p\n",
    "cont2 = ~(p | ~p)\n",
    "cont3 = p & (~p | (q & ~q))\n",
    "print_truth_table(cont1, [p])\n",
    "print()\n",
    "print_truth_table(cont2, [p])\n",
    "print()\n",
    "print_truth_table(cont3, props)"
   ]
  },
  {
   "cell_type": "markdown",
   "metadata": {},
   "source": [
    "### 2: Logical Equivalences     \n",
    "Create a function that will test for logical equivalence when it is passed two expressions. Then test the following examples that align with the Logical Equivalence Rules:\n",
    "1. Idempotent Laws\n",
    "2. Double Negation Law\n",
    "3. Negation Laws\n",
    "4. Commutative Laws\n",
    "5. Associative Laws\n",
    "6. Distributive Laws\n",
    "7. Absorption Laws\n",
    "8. Conditional Disjunction Equivalence\n",
    "8. DeMorgans Laws\n",
    "\n",
    "My solution required using the Function Calls method of defining expressions."
   ]
  },
  {
   "cell_type": "code",
   "execution_count": 117,
   "metadata": {},
   "outputs": [],
   "source": [
    "# Function that will test for logical equivalence\n",
    "from sympy.logic.boolalg import simplify_logic\n",
    "\n",
    "\n",
    "def test_logical_equivalence(expression1, expression2):\n",
    "    # write code to test for logical equivalence here\n",
    "    return simplify_logic(expression1).equals(simplify_logic(expression2))"
   ]
  },
  {
   "cell_type": "code",
   "execution_count": 36,
   "metadata": {},
   "outputs": [
    {
     "name": "stdout",
     "output_type": "stream",
     "text": [
      "Example 1 - Idempotent Laws:\n",
      "True\n",
      "\n",
      "Example 2 - Double Negation Law:\n",
      "True\n",
      "\n",
      "Example 3 - Negation Laws:\n",
      "True\n",
      "\n",
      "Example 4 - Commutative Laws:\n",
      "True\n",
      "\n",
      "Example 5 - Associative Laws:\n",
      "True\n",
      "\n",
      "Example 6 - Distributive Laws:\n",
      "True\n",
      "\n",
      "Example 7 - Absorption Laws:\n",
      "True\n",
      "\n",
      "Example 8 - Conditional Disjunction Equivalence:\n",
      "True\n",
      "\n",
      "Example 9 - De Morgan's Laws:\n",
      "Law 1: True\n",
      "Law 2: True\n"
     ]
    }
   ],
   "source": [
    "# Step 1: Define the symbols 'a', 'b', and 'c'\n",
    "a, b, c = symbols('a b c')\n",
    "\n",
    "# Example 1: Idempotent Laws\n",
    "###### define expr1 and expr2 here\n",
    "expr1 = a & a\n",
    "expr2 = a\n",
    "print(\"Example 1 - Idempotent Laws:\")\n",
    "print(test_logical_equivalence(expr1, expr2))\n",
    "\n",
    "# Example 2: Double Negation Law\n",
    "###### define expr1 and expr2 here\n",
    "expr1 = a\n",
    "expr2 = ~~a\n",
    "print(\"\\nExample 2 - Double Negation Law:\")\n",
    "print(test_logical_equivalence(expr1, expr2))\n",
    "\n",
    "# Example 3: Negation Laws\n",
    "###### define expr1 and expr2 here\n",
    "expr1 = a | ~a\n",
    "expr2 = true\n",
    "print(\"\\nExample 3 - Negation Laws:\")\n",
    "print(test_logical_equivalence(expr1, expr2))\n",
    "\n",
    "# Example 4: Commutative Laws\n",
    "###### define expr1 and expr2 here\n",
    "expr1 = a | b\n",
    "expr2 = b | a\n",
    "print(\"\\nExample 4 - Commutative Laws:\")\n",
    "print(test_logical_equivalence(expr1, expr2))\n",
    "\n",
    "# Example 5: Associative Laws\n",
    "###### define expr1 and expr2 here\n",
    "expr1 = ( a | b ) | c\n",
    "expr2 = a | ( b | c )\n",
    "print(\"\\nExample 5 - Associative Laws:\")\n",
    "print(test_logical_equivalence(expr1, expr2))\n",
    "\n",
    "# Example 6: Distributive Laws\n",
    "###### define expr1 and expr2 here\n",
    "expr1 = a | ( b & c )\n",
    "expr2 = ( a | b ) & ( a | c )\n",
    "print(\"\\nExample 6 - Distributive Laws:\")\n",
    "print(test_logical_equivalence(expr1, expr2))\n",
    "\n",
    "# Example 7: Absorption Laws\n",
    "###### define expr1 and expr2 here\n",
    "expr1 = a | ( a & b )\n",
    "expr2 = a\n",
    "print(\"\\nExample 7 - Absorption Laws:\")\n",
    "print(test_logical_equivalence(expr1, expr2))\n",
    "\n",
    "# Example 8: Conditional Disjunction Equivalence\n",
    "###### define expr1 and expr2 here\n",
    "expr1 = a >> b\n",
    "expr2 = ~a | b\n",
    "print(\"\\nExample 8 - Conditional Disjunction Equivalence:\")\n",
    "print(test_logical_equivalence(expr1, expr2))\n",
    "\n",
    "# Example 9: De Morgan's Laws\n",
    "###### define expr1 and expr2 here\n",
    "expr1 = ~( a | b )\n",
    "expr2 = ~a & ~b\n",
    "expr3 = ~( a & b )\n",
    "expr4 = ~a | ~b\n",
    "print(\"\\nExample 9 - De Morgan's Laws:\")\n",
    "print(\"Law 1: \" + str(test_logical_equivalence(expr1, expr2)))\n",
    "print(\"Law 2: \" + str(test_logical_equivalence(expr3, expr4)))\n"
   ]
  },
  {
   "cell_type": "markdown",
   "metadata": {},
   "source": [
    "### 3: Sum of Products (Minterms) and Product of Sums (Maxterms)    \n",
    "For this exercise, you will be given the line numbers of the minterms and maxterms. Use SymPy to determine what the SOP Form is for 1-3 and what the POS form is for 4 and 5.\n",
    "1. Minterms: 0, 1, 2, 3, 6, 7, 8, 9, 10, 11, 14, 15\n",
    "2. Minterms: 0, 1, 2, 3, 5, 6, 7, 8, 9, 10, 11, 12, 13, 14, 15\n",
    "3. Minterms: 0, 1, 2, 3, 8, 9, 10, 11\n",
    "4. Maxterms: 0, 1, 2, 5, 7, 10, 13, 15\n",
    "5. Maxterms: 0, 2, 3, 6, 8, 9, 12, 15"
   ]
  },
  {
   "cell_type": "code",
   "execution_count": 1,
   "metadata": {},
   "outputs": [],
   "source": [
    "import sympy\n",
    "# Uses wizardry to convert a line number into a list of true/false prepositions in constant time\n",
    "def terms_to_binary(minterm_line_list, num_variables):\n",
    "    binterms=[]\n",
    "    for line_number in minterm_line_list:\n",
    "        terms = [int(char) for char in bin(int(line_number))[2:]]\n",
    "        while len(terms) < num_variables:\n",
    "            terms.insert(0,0)\n",
    "        binterms.append(terms)\n",
    "    return binterms\n",
    "\n",
    "# Given a list of integers representing the minterms, prints the Sum of Products form of the expression that satisfies the minterms\n",
    "def print_SOP(minterm_line_list, variables):\n",
    "    binterms = terms_to_binary(minterm_line_list, len(variables))\n",
    "    variables = list(variables)\n",
    "    sop_string = \"\"\n",
    "    for row in binterms:\n",
    "        for i, value in enumerate(row):\n",
    "            sop_string += str(variables[i])\n",
    "            if value == 0:\n",
    "                sop_string += \"\\u0304\"\n",
    "        sop_string += (' + ')\n",
    "    print(sop_string[:-3])\n",
    "\n",
    "# Given a list of integers representing the MAXterms, prints the PRODUCT OF SUMS form of the expression that satisfies the maxterms\n",
    "def print_POS(maxterm_line_list, variables):\n",
    "    binterms = terms_to_binary(maxterm_line_list,len(variables))\n",
    "    variables = list(variables)\n",
    "    pos_string = \"(\"\n",
    "    for row in binterms:\n",
    "        for i, value in enumerate(row):\n",
    "            pos_string += str(variables[i])\n",
    "            if value == 0:\n",
    "                pos_string += \"\\u0304\"\n",
    "            pos_string += \" + \"\n",
    "        pos_string = pos_string[:-3] + \")(\"\n",
    "    print(pos_string[:-1])\n",
    "\n",
    "# Convert a string of numbers into a list of integers and plug it into the SOP function\n",
    "def A2_3_minterm_solver(minterm_string):\n",
    "    minterm_line_list = minterm_string.split(', ')\n",
    "    variables = p,q,r,s = sympy.symbols('p,q,r,s')\n",
    "    print_SOP(minterm_line_list, variables)\n",
    "# same, but plugs it into the POS function\n",
    "def A2_3_maxterm_solver(maxterm_string):\n",
    "    maxterm_line_list = maxterm_string.split(', ')\n",
    "    variables = p,q,r,s = sympy.symbols('p,q,r,s')\n",
    "    print_POS(maxterm_line_list, variables)"
   ]
  },
  {
   "cell_type": "code",
   "execution_count": 73,
   "metadata": {},
   "outputs": [
    {
     "name": "stdout",
     "output_type": "stream",
     "text": [
      "p̄q̄r̄s̄ + p̄q̄r̄s + p̄q̄rs̄ + p̄q̄rs + p̄qrs̄ + p̄qrs + pq̄r̄s̄ + pq̄r̄s + pq̄rs̄ + pq̄rs + pqrs̄ + pqrs\n"
     ]
    }
   ],
   "source": [
    "# 1: Minterms: 0, 1, 2, 3, 6, 7, 8, 9, 10, 11, 14, 15\n",
    "A2_3_minterm_solver('0, 1, 2, 3, 6, 7, 8, 9, 10, 11, 14, 15')\n"
   ]
  },
  {
   "cell_type": "code",
   "execution_count": 74,
   "metadata": {},
   "outputs": [
    {
     "name": "stdout",
     "output_type": "stream",
     "text": [
      "p̄q̄r̄s̄ + p̄q̄r̄s + p̄q̄rs̄ + p̄q̄rs + p̄qr̄s + p̄qrs̄ + p̄qrs + pq̄r̄s̄ + pq̄r̄s + pq̄rs̄ + pq̄rs + pqr̄s̄ + pqr̄s + pqrs̄ + pqrs\n"
     ]
    }
   ],
   "source": [
    "# 2. Minterms: 0, 1, 2, 3, 5, 6, 7, 8, 9, 10, 11, 12, 13, 14, 15\n",
    "A2_3_minterm_solver('0, 1, 2, 3, 5, 6, 7, 8, 9, 10, 11, 12, 13, 14, 15')\n"
   ]
  },
  {
   "cell_type": "code",
   "execution_count": 75,
   "metadata": {},
   "outputs": [
    {
     "name": "stdout",
     "output_type": "stream",
     "text": [
      "p̄q̄r̄s̄ + p̄q̄r̄s + p̄q̄rs̄ + p̄q̄rs + pq̄r̄s̄ + pq̄r̄s + pq̄rs̄ + pq̄rs\n"
     ]
    }
   ],
   "source": [
    "# 3. Minterms: 0, 1, 2, 3, 8, 9, 10, 11\n",
    "A2_3_minterm_solver('0, 1, 2, 3, 8, 9, 10, 11')\n"
   ]
  },
  {
   "cell_type": "code",
   "execution_count": 88,
   "metadata": {},
   "outputs": [
    {
     "name": "stdout",
     "output_type": "stream",
     "text": [
      "(p̄ + q̄ + r̄ + s̄)(p̄ + q̄ + r̄ + s)(p̄ + q̄ + r + s̄)(p̄ + q + r̄ + s)(p̄ + q + r + s)(p + q̄ + r + s̄)(p + q + r̄ + s)(p + q + r + s)\n"
     ]
    }
   ],
   "source": [
    "# 4. Maxterms: 0, 1, 2, 5, 7, 10, 13, 15\n",
    "\n",
    "A2_3_maxterm_solver('0, 1, 2, 5, 7, 10, 13, 15')"
   ]
  },
  {
   "cell_type": "code",
   "execution_count": 87,
   "metadata": {},
   "outputs": [
    {
     "name": "stdout",
     "output_type": "stream",
     "text": [
      "(p̄ + q̄ + r̄ + s̄)(p̄ + q̄ + r + s̄)(p̄ + q̄ + r + s)(p̄ + q + r + s̄)(p + q̄ + r̄ + s̄)(p + q̄ + r̄ + s)(p + q + r̄ + s̄)(p + q + r + s)\n"
     ]
    }
   ],
   "source": [
    "# 5. Maxterms: 0, 2, 3, 6, 8, 9, 12, 15\n",
    "\n",
    "A2_3_maxterm_solver('0, 2, 3, 6, 8, 9, 12, 15')"
   ]
  },
  {
   "cell_type": "markdown",
   "metadata": {},
   "source": [
    "### 4: Conjective Normal Form and Disjunctive Normal Form     \n",
    "Write a script that will test is expressions are in CNF and DNF form. If it is in either, print that its already in that correct form. If it is not, convert it to the appropriate form and print out the result. Show the original expression each time. The following are the expressions:\n",
    "1. (a and b) or (b and c)\n",
    "2. (p or q) and (not p or q or r)\n",
    "3. (x and y) or (not y and z)\n"
   ]
  },
  {
   "cell_type": "code",
   "execution_count": 62,
   "metadata": {},
   "outputs": [],
   "source": [
    "import sympy\n",
    "from sympy import symbols, to_cnf, to_dnf\n",
    "from sympy.logic.boolalg import is_cnf, is_dnf\n",
    "\n",
    "def cnf_dnf_tester(expression):\n",
    "    print(expression)\n",
    "    if is_cnf(expression):\n",
    "        print(\"Expression in CNF\")\n",
    "    else:\n",
    "        print(f\"Expression not in CNF. CNF form is: {to_cnf(expression, simplify=True)}\")\n",
    "    if is_dnf(expression):\n",
    "        print(\"Expression in DNF\")\n",
    "    else:\n",
    "        print(f\"Expression not in DNF. DNF form is: {to_dnf(expression, simplify=True)}\")\n",
    "\n",
    "\n"
   ]
  },
  {
   "cell_type": "code",
   "execution_count": 63,
   "metadata": {},
   "outputs": [
    {
     "name": "stdout",
     "output_type": "stream",
     "text": [
      "(a & b) | (b & c)\n",
      "Expression not in CNF. CNF form is: b & (a | c)\n",
      "Expression in DNF\n"
     ]
    }
   ],
   "source": [
    "# 1: (a and b) or (b and c)\n",
    "exp = (a&b)|(b&c)\n",
    "cnf_dnf_tester(exp)"
   ]
  },
  {
   "cell_type": "code",
   "execution_count": 65,
   "metadata": {},
   "outputs": [
    {
     "name": "stdout",
     "output_type": "stream",
     "text": [
      "(p | q) & (q | r | ~p)\n",
      "Expression in CNF\n",
      "Expression not in DNF. DNF form is: q | (p & r)\n"
     ]
    }
   ],
   "source": [
    "# 2: (p or q) and (not p or q or r)\n",
    "p,q,r,s = sympy.symbols('p,q,r,s')\n",
    "exp = (p|q)&(~p|q|r)\n",
    "cnf_dnf_tester(exp)\n"
   ]
  },
  {
   "cell_type": "code",
   "execution_count": 66,
   "metadata": {},
   "outputs": [
    {
     "name": "stdout",
     "output_type": "stream",
     "text": [
      "(x & y) | (z & ~y)\n",
      "Expression not in CNF. CNF form is: (y | z) & (x | ~y)\n",
      "Expression in DNF\n"
     ]
    }
   ],
   "source": [
    "# 3: (x and y) or (not y and z)\n",
    "x,y,z = sympy.symbols('x,y,z')\n",
    "exp = (x & y) | (z & ~y)\n",
    "cnf_dnf_tester(exp)"
   ]
  },
  {
   "cell_type": "markdown",
   "metadata": {},
   "source": [
    "### 5: Satisfiability\n",
    "Use SymPy to test for satisfiability on these expressions and print out whether they are satisfiable or not. If it is satisfiable, show what the True and False values have to be to make it satisfiable.\n",
    "1. (a and b) or (not a and b) or (c and not b)\n",
    "2. (p or q) and (not p or q or r)\n",
    "3. (x and y) or (not y and z)"
   ]
  },
  {
   "cell_type": "code",
   "execution_count": 108,
   "metadata": {},
   "outputs": [],
   "source": [
    "from sympy import satisfiable\n",
    "\n",
    "def print_satisfiability(expression):\n",
    "    results = list(satisfiable(expression, all_models=True))\n",
    "    if results[0] == False:\n",
    "        print(f\"Expression {expression} is not satisfiable with any combination of values!\")\n",
    "    else:\n",
    "        print(f\"Expression {expression} is satisfiable with the following combinations of values:\")\n",
    "        for result in results:\n",
    "            print(str(result)[1:-1])\n"
   ]
  },
  {
   "cell_type": "code",
   "execution_count": 109,
   "metadata": {},
   "outputs": [
    {
     "name": "stdout",
     "output_type": "stream",
     "text": [
      "Expression (a & b) | (b & ~a) | (c & ~b) is satisfiable with the following combinations of values:\n",
      "b: True, c: True, a: False\n",
      "b: True, a: False, c: False\n",
      "b: True, c: True, a: True\n",
      "b: True, a: True, c: False\n",
      "c: True, a: False, b: False\n",
      "c: True, a: True, b: False\n"
     ]
    }
   ],
   "source": [
    "# 1 (a and b) or (not a and b) or (c and not b)\n",
    "exp = (a&b)|(~a&b)|(c&~b)\n",
    "print_satisfiability(exp)\n"
   ]
  },
  {
   "cell_type": "code",
   "execution_count": 110,
   "metadata": {},
   "outputs": [
    {
     "name": "stdout",
     "output_type": "stream",
     "text": [
      "Expression (p | q) & (q | r | ~p) is satisfiable with the following combinations of values:\n",
      "q: True, r: True, p: False\n",
      "q: True, r: False, p: False\n",
      "q: True, p: True, r: True\n",
      "q: True, p: True, r: False\n",
      "p: True, r: True, q: False\n"
     ]
    }
   ],
   "source": [
    "# 2: (p or q) and (not p or q or r)\n",
    "exp = (p|q)&(~p|q|r)\n",
    "print_satisfiability(exp)"
   ]
  },
  {
   "cell_type": "code",
   "execution_count": 111,
   "metadata": {},
   "outputs": [
    {
     "name": "stdout",
     "output_type": "stream",
     "text": [
      "Expression (x & y) | (z & ~y) is satisfiable with the following combinations of values:\n",
      "x: True, z: True, y: False\n",
      "z: True, y: False, x: False\n",
      "y: True, x: True, z: True\n",
      "y: True, x: True, z: False\n"
     ]
    }
   ],
   "source": [
    "# 3: (x and y) or (not y and z)\n",
    "exp = (x&y) | (~y & z)\n",
    "print_satisfiability(exp)"
   ]
  }
 ],
 "metadata": {
  "kernelspec": {
   "display_name": "Python 3",
   "language": "python",
   "name": "python3"
  },
  "language_info": {
   "codemirror_mode": {
    "name": "ipython",
    "version": 3
   },
   "file_extension": ".py",
   "mimetype": "text/x-python",
   "name": "python",
   "nbconvert_exporter": "python",
   "pygments_lexer": "ipython3",
   "version": "3.11.7"
  },
  "orig_nbformat": 4
 },
 "nbformat": 4,
 "nbformat_minor": 2
}
