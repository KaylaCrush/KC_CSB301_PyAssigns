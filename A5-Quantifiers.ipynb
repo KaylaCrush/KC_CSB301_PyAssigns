{
 "cells": [
  {
   "cell_type": "markdown",
   "metadata": {},
   "source": [
    "## Assignment 5 - Quantifiers"
   ]
  },
  {
   "cell_type": "markdown",
   "metadata": {},
   "source": [
    "### 1 Universal and Existential Quantifiers"
   ]
  },
  {
   "cell_type": "markdown",
   "metadata": {},
   "source": [
    "Demonstrate Universal Quantifiers and Existential Quantifiers using Python code. Create functions:    \n",
    "1. Predicate 1: tests if a number is even\n",
    "2. Predicate 2: tests if a number is positive\n",
    "3. Predicate 3: tests if a number is negative\n",
    "\n",
    "Create two domains: \n",
    "1. Domain 1: list of numbers from 1 to 11 exclusive\n",
    "2. Domain 2: list of the numbers 2, 4, 6, 8\n",
    "\n",
    "Test the following quanifiers:\n",
    "1. Test if all the integers in domain 1 are even\n",
    "2. Test if all the integers in domain 2 are even\n",
    "3. Test if any the integers in domain 1 are positive\n",
    "4. Test if any of the integers in domain 1 are negative\n",
    "\n",
    "When printing your results, be clear what Predicate is being used as well as what is being tested. Print out True or False after that. Output code is given for you to use."
   ]
  },
  {
   "cell_type": "code",

   "execution_count": 11,
   "metadata": {},
   "outputs": [
    {
     "name": "stdout",
     "output_type": "stream",
     "text": [
      "Domain 1: [2, 3, 4, 5, 6, 7, 8, 9, 10]\n",
      "Domain 2: [2, 4, 6, 8]\n",
      "Universal Quantifier (∀x): For all x, x is even (domain 1): False\n",
      "Universal Quantifier (∀x): For all x, x is even (domain 2): True\n",
      "Existential Quantifier (∃x): There exists an x such that x is positive (domain 1): True\n",
      "Existential Quantifier (∃x): There exists an x such that x is negative (domain 1): False\n"
     ]
    }
   ],

   "source": [
    "# Demonstrate Univ Quant and Exist Quant\n",
    "\n",
    "def is_even(x):\n",
    "    \"\"\"Predicate 1: Checks if x is even.\"\"\"\n",

    "    return x%2 == 0\n",
    "\n",
    "\n",
    "def is_positive(x):\n",
    "    \"\"\"Predicate 2: Checks if x is positive.\"\"\"\n",
    "    return x > 0\n",
    "\n",
    "\n",
    "def is_negative(x):\n",
    "    \"\"\"Predicate 4: Checks if x is negative.\"\"\"\n",
    "    return x < 0\n",
    "\n",
    "def product(lst):\n",
    "    res = 1\n",
    "    for element in lst:\n",
    "        res = res * element\n",
    "    return res\n",
    "\n",
    "\n",
    "def for_all(method, domain):\n",
    "    return bool(product([method(x) for x in domain]))\n",
    "\n",
    "\n",
    "def for_each(method, domain):\n",
    "    return bool(sum([method(x) for x in domain]))\n",
    "\n",
    "def demonstrate_quantifiers():\n",
    "    \"\"\"Demonstrates both existential and universal quantifiers using Python.\"\"\"\n",
    "    domain1 = [2,3,4,5,6,7,8,9,10]\n",
    "    domain2 = [2,4,6,8]\n",
    "    print(f\"Domain 1: {domain1}\")\n",
    "    print(f\"Domain 2: {domain2}\")\n",
    "\n",
    "    print(f\"Universal Quantifier (∀x): For all x, x is even (domain 1): {for_all(is_even, domain1)}\")\n",
    "    print(f\"Universal Quantifier (∀x): For all x, x is even (domain 2): {for_all(is_even, domain2)}\")\n",
    "    print(f\"Existential Quantifier (∃x): There exists an x such that x is positive (domain 1): {for_each(is_positive, domain1)}\")\n",
    "    print(f\"Existential Quantifier (∃x): There exists an x such that x is negative (domain 1): {for_each(is_negative, domain1)}\")\n",
    "\n",

    "\n",
    "demonstrate_quantifiers()\n"
   ]
  },
  {
   "cell_type": "markdown",
   "metadata": {},
   "source": [
    "### 2 Uniqueness Quantifier"
   ]
  },
  {
   "cell_type": "markdown",
   "metadata": {},
   "source": [
    "Create a function to test if a number is a prime. Now create a domain with integers from 1 to 10 inclusive. Now determine if there is a unique prime number in the set of integers between 1 to 10. Print out the Predicate and the Uniqueness being checked for along with the True or False."
   ]
  },
  {
   "cell_type": "code",
   "execution_count": 12,
   "metadata": {},
   "outputs": [
    {
     "name": "stdout",
     "output_type": "stream",
     "text": [
      "Domian: [1, 2, 3, 4, 5, 6, 7, 8, 9, 10]\n",
      "Uniqueness Quantifier (∃!x): There exists one and only one x such that x is prime: False\n"
     ]
    }
   ],

   "source": [
    "# Demonstrate the uniqueness quantifier\n",
    "\n",
    "def is_prime(x):\n",
    "    \"\"\"Predicate: Checks if x is a prime number.\"\"\"\n",

    "    if x < 2:\n",
    "        return False\n",
    "    i = 2\n",
    "    while i*i <= x:\n",
    "        if x % i == 0:\n",
    "            return False\n",
    "        i = i + 1\n",
    "    return True\n",
    "\n",
    "def there_exists_a_unique(method, domain):\n",
    "    return sum([method(x) for x in domain]) == 1\n",
    "\n",
    "def demonstrate_uniqueness_quantifier():\n",
    "    \"\"\"Demonstrates the uniqueness quantifier (∃!) using Python.\"\"\"\n",
    "    domain = [1,2,3,4,5,6,7,8,9,10]\n",
    "    print(f\"Domian: {domain}\")\n",
    "    print(f\"Uniqueness Quantifier (∃!x): There exists one and only one x such that x is prime: {there_exists_a_unique(is_prime, domain)}\")\n",

    "\n",
    "demonstrate_uniqueness_quantifier()"
   ]
  },
  {
   "cell_type": "markdown",
   "metadata": {},
   "source": [
    "### 3 Nested Quantifiers"
   ]
  },
  {
   "cell_type": "markdown",
   "metadata": {},
   "source": [
    "Demonstrate nested quantifiers. Create functions:\n",
    "1. Predicate 1: tests if a number is even\n",
    "2. Predicate 2: tests if a number is positive\n",
    "\n",
    "Create two domains:    \n",
    "x: integers 1 to 10 inclusive    \n",
    "y: integers 1 to 10 inclusive   \n",
    "\n",
    "Demonstrate that \"(∃x ∃y): There exists an even x and a positive y such that x + y = 10\"    \n",
    "Be sure to print the Predicates and quantifier being tested along with the True or False values.\n"
   ]
  },
  {
   "cell_type": "code",

   "execution_count": 13,
   "metadata": {},
   "outputs": [
    {
     "name": "stdout",
     "output_type": "stream",
     "text": [
      "Does there exist at least one x and y such that x is even, y is positive, and x + y = 10?\n",
      "True for x = 2 and y = 8\n"
     ]
    }
   ],

   "source": [
    "# Demonstrate Nested Quantifiers with an example\n",
    "\n",
    "def is_even(x):\n",
    "    \"\"\"Predicate: Checks if x is even.\"\"\"\n",

    "    return x%2 == 0\n",
    "\n",
    "\n",
    "def is_positive(x):\n",
    "    \"\"\"Predicate: Checks if x is positive.\"\"\"\n",
    "    return x > 0\n",
    "\n",
    "def nested_exists(method1, domain1, method2, domain2, method3):\n",
    "    for x in domain1:\n",
    "        for y in domain2:\n",
    "            if(method1(x) and method2(y) and method3(x,y)):\n",
    "                return(f\"True for x = {x} and y = {y}\")\n",
    "    return \"False\"\n",
    "\n",
    "def adds_to_ten(x, y):\n",
    "    return x + y == 10\n",
    "\n",
    "domain1 = [1,2,3,4,5,6,7,8,9,10]\n",
    "domain2 = [1,2,3,4,5,6,7,8,9,10]\n",
    "\n",
    "def demonstrate_nested_quantifiers():\n",
    "    \"\"\"Demonstrates nested quantifiers in Python.\"\"\"\n",
    "    print(\"Does there exist at least one x and y such that x is even, y is positive, and x + y = 10?\")\n",
    "    print(nested_exists(is_even, domain1, is_positive, domain2, adds_to_ten))\n",
    "\n",
    "demonstrate_nested_quantifiers()"
   ]

  }
 ],
 "metadata": {
  "kernelspec": {

   "display_name": "Python 3",

   "language": "python",
   "name": "python3"
  },
  "language_info": {
   "codemirror_mode": {
    "name": "ipython",
    "version": 3
   },
   "file_extension": ".py",
   "mimetype": "text/x-python",
   "name": "python",
   "nbconvert_exporter": "python",
   "pygments_lexer": "ipython3",

   "version": "3.11.7"

  },
  "orig_nbformat": 4
 },
 "nbformat": 4,
 "nbformat_minor": 2
}
