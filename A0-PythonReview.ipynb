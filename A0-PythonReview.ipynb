{
  "cells": [
    {
      "cell_type": "markdown",
      "metadata": {
        "id": "qJX1HwwaGYl0"
      },
      "source": [
        "# Python Review"
      ]
    },
    {
      "cell_type": "markdown",
      "metadata": {
        "id": "Rk9uMHggFRh2"
      },
      "source": [
        "#### 1. Print two sentences.  Use only one print statement to do it and use the newline escape character between the two sentences. It should (without quotes) read.   \n",
        "\"My name is (your name).    \n",
        "I am a student at North Seattle College.\""
      ]
    },
    {
      "cell_type": "code",
      "execution_count": 1,
      "metadata": {
        "id": "BQybla17FRh5"
      },
      "outputs": [
        {
          "name": "stdout",
          "output_type": "stream",
          "text": [
            "My name is Kayla Rieck\n",
            "I am a student at North Seattle College.\n"
          ]
        }
      ],
      "source": [
        "my_name = 'Kayla Rieck'\n",
        "print(f\"My name is {my_name}\\nI am a student at North Seattle College.\")"
      ]
    },
    {
      "cell_type": "markdown",
      "metadata": {
        "id": "eD1TT77_FRh8"
      },
      "source": [
        "#### 2. Define a variable called phone and insert a phone number without dashes. Print out    \n",
        "\"My phone number is (phone number here)\""
      ]
    },
    {
      "cell_type": "code",
      "execution_count": 2,
      "metadata": {
        "id": "P7QDyWncFRh8"
      },
      "outputs": [
        {
          "name": "stdout",
          "output_type": "stream",
          "text": [
            "My phone number is 5556667777\n"
          ]
        }
      ],
      "source": [
        "phone = 5556667777\n",
        "print(f\"My phone number is {phone}\")"
      ]
    },
    {
      "cell_type": "markdown",
      "metadata": {
        "id": "8wJrc6V6G29d"
      },
      "source": [
        "#### 3. Be sure to use the f functionality of printing. Save in a variable called phone a phone number with dashes and another variable with your name in it. Print out    \n",
        "\"Hello my name is (your name) and my phone number is (phone number with dashes)\""
      ]
    },
    {
      "cell_type": "code",
      "execution_count": 3,
      "metadata": {
        "id": "OnOau948FRh9"
      },
      "outputs": [
        {
          "name": "stdout",
          "output_type": "stream",
          "text": [
            "Hello my name is Kayla Rieck and my phone number is 555-666-7777\n"
          ]
        }
      ],
      "source": [
        "phone = \"555-666-7777\"\n",
        "name = \"Kayla Rieck\"\n",
        "print(f\"Hello my name is {name} and my phone number is {phone}\")"
      ]
    },
    {
      "cell_type": "markdown",
      "metadata": {
        "id": "L2ILAb5iHHsS"
      },
      "source": [
        "#### 4. Create variables for the month and year you will graduate in one line. \n",
        "#### Using the variables print out \"I graduate in (month) of (year).\"\n",
        "Don't forget the period."
      ]
    },
    {
      "cell_type": "code",
      "execution_count": 4,
      "metadata": {
        "id": "5x2rIFzRFRh9"
      },
      "outputs": [
        {
          "name": "stdout",
          "output_type": "stream",
          "text": [
            "I graduate in October of 2026.\n"
          ]
        }
      ],
      "source": [
        "month, year = \"October\", \"2026\"\n",
        "print(f\"I graduate in {month} of {year}.\")"
      ]
    },
    {
      "cell_type": "markdown",
      "metadata": {
        "id": "CbK-uSPsFRh-"
      },
      "source": [
        "### Mathematical\n"
      ]
    },
    {
      "cell_type": "markdown",
      "metadata": {
        "id": "x2IYlJHTJsYl"
      },
      "source": [
        "#### 5. Create a variable called ans and into it save the solution to 12 times 5 minus 3 divided by 2. Be sure you write in exactly that order. Print ans. Now write a comment underneath explaining what the TYPE of ans is at the end."
      ]
    },
    {
      "cell_type": "code",
      "execution_count": 6,
      "metadata": {
        "id": "OkyeAVPXFRh-"
      },
      "outputs": [
        {
          "name": "stdout",
          "output_type": "stream",
          "text": [
            "58.5\n"
          ]
        }
      ],
      "source": [
        "ans = 12 * 5 - 3 / 2\n",
        "print(ans)\n",
        "# Ans is a floating point number"
      ]
    },
    {
      "cell_type": "markdown",
      "metadata": {
        "id": "TAqSrXZMFRh_"
      },
      "source": [
        "### Decision Structures"
      ]
    },
    {
      "cell_type": "markdown",
      "metadata": {
        "id": "aR5DPLU6KaiX"
      },
      "source": [
        "#### 6. Create a variable to hold the string \"October\". Now write an if/else statement that tests if that variable says \"October\". If it does, print \"31 days\". If it does not, print \"30 days\""
      ]
    },
    {
      "cell_type": "code",
      "execution_count": 8,
      "metadata": {
        "id": "Lo-LEy8bKYmG"
      },
      "outputs": [
        {
          "name": "stdout",
          "output_type": "stream",
          "text": [
            "31 days\n"
          ]
        }
      ],
      "source": [
        "var = \"October\"\n",
        "if var == \"October\":\n",
        "    print(\"31 days\")\n",
        "else:\n",
        "    print(\"30 days\")"
      ]
    },
    {
      "cell_type": "markdown",
      "metadata": {
        "id": "t-iUVyOQ3KYs"
      },
      "source": [
        "#### 7. Create a variable and save 140 into it. Now create a decision structure using if, elif and else that does the following:    \n",
        "If the number is greater than 150, print \"greater than 150\"   \n",
        "If the number if greater than 100 but less than 151, print \"between 100 and 150\"   \n",
        "If the number is less than 100, print \"less than 100\"        "
      ]
    },
    {
      "cell_type": "code",
      "execution_count": 9,
      "metadata": {
        "id": "qscUkh813QKH"
      },
      "outputs": [
        {
          "name": "stdout",
          "output_type": "stream",
          "text": [
            "Between 100 and 150\n"
          ]
        }
      ],
      "source": [
        "var = 140\n",
        "if var > 150:\n",
        "    print(\"Greater than 150\")\n",
        "elif var > 100:\n",
        "    print(\"Between 100 and 150\")\n",
        "else:\n",
        "    print(\"Less than 100\")"
      ]
    },
    {
      "cell_type": "markdown",
      "metadata": {
        "id": "1xpf9181KCS3"
      },
      "source": [
        "#### 8. Create a variable to hold the number 70. Now create two if statements:\n",
        "#### 1st: if the number is divisible by 5 and by 10, then print \"Number is divisible by 5 and 10.\"    \n",
        "#### 2nd: if the number is divisible by 7 or by 2, then print \"Number is divisible by 7 or by 2\""
      ]
    },
    {
      "cell_type": "code",
      "execution_count": 10,
      "metadata": {
        "id": "1vxg4nMbFRh_"
      },
      "outputs": [
        {
          "name": "stdout",
          "output_type": "stream",
          "text": [
            "Number is divisible by 5 and 10\n",
            "Number is divisible by 7 or 2\n"
          ]
        }
      ],
      "source": [
        "var = 70\n",
        "if var % 5 == 0 and var % 10 == 0:\n",
        "    print(\"Number is divisible by 5 and 10\")\n",
        "if var % 7 == 0 or var % 2 == 0:\n",
        "    print(\"Number is divisible by 7 or 2\")"
      ]
    },
    {
      "cell_type": "markdown",
      "metadata": {
        "id": "PlBuSSgOwgyt"
      },
      "source": [
        "#### 9. Create a FOR loop that prints the numbers 1 through 100 that are divisible by 7."
      ]
    },
    {
      "cell_type": "code",
      "execution_count": 15,
      "metadata": {
        "id": "JY_Ci5v-FRiA"
      },
      "outputs": [
        {
          "name": "stdout",
          "output_type": "stream",
          "text": [
            "0\n",
            "7\n",
            "14\n",
            "21\n",
            "28\n",
            "35\n",
            "42\n",
            "49\n",
            "56\n",
            "63\n",
            "70\n",
            "77\n",
            "84\n",
            "91\n",
            "98\n"
          ]
        }
      ],
      "source": [
        "for i in range(100):\n",
        "    if i % 7 == 0:\n",
        "        print(i)\n",
        "\n",
        "# And again with a one-line list comprehension\n",
        "# [print(i) for i in range(0, 100, 7)]"
      ]
    },
    {
      "cell_type": "markdown",
      "metadata": {
        "id": "1TOwGOAYx958"
      },
      "source": [
        "#### 10. Use a while loop to print all numbers from 1 to 10 which are divisible by 3. Print the numbers next to each other with a space in between them. Use a while loop and if statement. Sum up the numbers and printt he sum on a new line."
      ]
    },
    {
      "cell_type": "code",
      "execution_count": 18,
      "metadata": {
        "id": "4a1D64hpFRiA"
      },
      "outputs": [
        {
          "name": "stdout",
          "output_type": "stream",
          "text": [
            "3 6 9 \n",
            "18\n"
          ]
        }
      ],
      "source": [
        "i = 1\n",
        "sum = 0\n",
        "while i <= 10:\n",
        "    if i % 3 == 0:\n",
        "        print(i, end = \" \")\n",
        "        sum += i\n",
        "    i = i+1\n",
        "print(f\"\\n{sum}\")"
      ]
    },
    {
      "cell_type": "markdown",
      "metadata": {
        "id": "f6ULW1En1BIZ"
      },
      "source": [
        "#### 11. You will be creating a nested loop like we did in class but with a twist. Ultimately, you want 5 sets to print, each one with the output \"Set : (set number)\" each time a new set is looped into. Then before you print all the numbers in that set, you want to test if the number is divisible by 2. If it is, print a string 5 times that looks like this: \"Student (number)\".  So it would have 5 sets... some of them would have strings printed in them, some would not. The ones that would have strings in them would show output like:\n",
        "\"    \n",
        "Set: 1    \n",
        "Set: 2    \n",
        "Student 1    \n",
        "Student 2    \n",
        "Student 3    \n",
        "Student 4    \n",
        "Student 5    \n",
        "Set: 3     \n",
        "...\"    "
      ]
    },
    {
      "cell_type": "code",
      "execution_count": 21,
      "metadata": {
        "id": "ntBnYxzi1RPc"
      },
      "outputs": [
        {
          "name": "stdout",
          "output_type": "stream",
          "text": [
            "Set: 1\n",
            "Set: 2\n",
            "Student 1\n",
            "Student 2\n",
            "Student 3\n",
            "Student 4\n",
            "Student 5\n",
            "Set: 3\n",
            "Set: 4\n",
            "Student 1\n",
            "Student 2\n",
            "Student 3\n",
            "Student 4\n",
            "Student 5\n",
            "Set: 5\n"
          ]
        }
      ],
      "source": [
        "for i in range(1,6):\n",
        "    print(f\"Set: {i}\")\n",
        "    if i % 2 == 0:\n",
        "        for j in range(1,6):\n",
        "            print(f\"Student {j}\")"
      ]
    },
    {
      "cell_type": "markdown",
      "metadata": {
        "id": "572WT7cjzaqR"
      },
      "source": [
        "#### 12. Create a variable called school to hold the string \"Hogwarts\". Create two more variables, the first (call it first) and it will slice out the \"Hog\" and the other (call it second) will slice out the \"warts\" from the first variable. (Do not just save the strings \"Hog and \"warts\" into these two variables!) Now print first and second and then print the last letter of school. "
      ]
    },
    {
      "cell_type": "code",
      "execution_count": 26,
      "metadata": {
        "id": "lppms8ctzfRI"
      },
      "outputs": [
        {
          "name": "stdout",
          "output_type": "stream",
          "text": [
            "Invisible\n",
            "Academy\n",
            "y\n"
          ]
        }
      ],
      "source": [
        "school = \"Invisible Academy\"\n",
        "first = school[:9]\n",
        "second = school[10:]\n",
        "print(first)\n",
        "print(second)\n",
        "print(school[-1])"
      ]
    },
    {
      "cell_type": "markdown",
      "metadata": {
        "id": "6ATPH4fV0fH6"
      },
      "source": [
        "#### 13. Create a list called chars and save these strings in: Thor, She-Hulk, Loki.  Now use a FOR loop to print each item as a concatenation of the string: \" is a character in the Marvel Cinematic Universe..\"  So the output will be:\n",
        "Thor is a character in the Marvel Cinematic Universe.\n",
        "She-Hulk is a character in the Marvel Cinematic Universe.\n",
        "Loki is a character in the Marvel Cinematic Universe."
      ]
    },
    {
      "cell_type": "code",
      "execution_count": 27,
      "metadata": {
        "id": "zw2NezoM0zfl"
      },
      "outputs": [
        {
          "name": "stdout",
          "output_type": "stream",
          "text": [
            "Thor is a character in the Marvel Cinematic Universe. She-Hulk is a character in the Marvel Cinematic Universe. Loki is a character in the Marvel Cinematic Universe. "
          ]
        }
      ],
      "source": [
        "chars = [\"Thor\",\"She-Hulk\",\"Loki\"]\n",
        "for char in chars:\n",
        "    print(f\"{char} is a character in the Marvel Cinematic Universe.\", end = \" \")"
      ]
    },
    {
      "cell_type": "markdown",
      "metadata": {
        "id": "zJtqeA5T1Yxa"
      },
      "source": [
        "#### 14. Create a nested list called months. It will be a list with 6 lists within it. In each nested list will be the name of a month as a string and then the number of days it has. Create this using the first 6 months. Now use a loop with range and len function to print the following string format on each iteration:    \n",
        "\"January has 31 days\"  .... (month name) has (month days) days."
      ]
    },
    {
      "cell_type": "code",
      "execution_count": 32,
      "metadata": {
        "id": "rbyZif9a1b2V"
      },
      "outputs": [
        {
          "name": "stdout",
          "output_type": "stream",
          "text": [
            "January has 31 days in it.\n",
            "February has 28 days in it.\n",
            "March has 31 days in it.\n",
            "April has 30 days in it.\n",
            "May has 31 days in it.\n",
            "June has 30 days in it.\n"
          ]
        }
      ],
      "source": [
        "months = [\n",
        "    [\"January\", 31],\n",
        "    [\"February\", 28],\n",
        "    [\"March\", 31],\n",
        "    [\"April\", 30],\n",
        "    [\"May\", 31],\n",
        "    [\"June\", 30]\n",
        "]\n",
        "\n",
        "for i in range(len(months)):\n",
        "    print(f\"{months[i][0]} has {months[i][1]} days in it.\")\n",
        "\n",
        "#for month, month_days in months:\n",
        "#    print(f\"{month} has {month_days} days in it.\")\n",
        "\n"
      ]
    },
    {
      "cell_type": "markdown",
      "metadata": {
        "id": "R1okOyL22r6D"
      },
      "source": [
        "#### 15. Create a dictionary called dog that hold the data below. Print it. Then print the value of the Breed key. Then use the values in the dictionary to print out the string: \"The Corgi is expected to live about 13 years.\"    \n",
        "Data:     \n",
        "Breed = Corgi   \n",
        "Age Exp. = 13   \n",
        "Type = Cattle herding"
      ]
    },
    {
      "cell_type": "code",
      "execution_count": 37,
      "metadata": {
        "id": "p0YE0nqs4Hcz"
      },
      "outputs": [
        {
          "name": "stdout",
          "output_type": "stream",
          "text": [
            "{'Breed': 'Corgi', 'Age Exp.': 13, 'Type': 'Cattle herding'}\n",
            "Corgi\n",
            "The Corgi is expected to live about 13 years.\n"
          ]
        }
      ],
      "source": [
        "dog = {'Breed': 'Corgi', 'Age Exp.': 13, 'Type': 'Cattle herding'}\n",
        "print(dog)\n",
        "print(dog['Breed'])\n",
        "print(f\"The {dog['Breed']} is expected to live about {dog['Age Exp.']} years.\")"
      ]
    }
  ],
  "metadata": {
    "colab": {
      "provenance": []
    },
    "kernelspec": {
      "display_name": "Python 3",
      "language": "python",
      "name": "python3"
    },
    "language_info": {
      "codemirror_mode": {
        "name": "ipython",
        "version": 3
      },
      "file_extension": ".py",
      "mimetype": "text/x-python",
      "name": "python",
      "nbconvert_exporter": "python",
      "pygments_lexer": "ipython3",
      "version": "3.11.7"
    }
  },
  "nbformat": 4,
  "nbformat_minor": 0
}
